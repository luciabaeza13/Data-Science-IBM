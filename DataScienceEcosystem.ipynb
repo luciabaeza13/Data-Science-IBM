{
  "nbformat": 4,
  "nbformat_minor": 0,
  "metadata": {
    "colab": {
      "provenance": []
    },
    "kernelspec": {
      "name": "python3",
      "display_name": "Python 3"
    },
    "language_info": {
      "name": "python"
    }
  },
  "cells": [
    {
      "cell_type": "markdown",
      "source": [
        "# Data Science Tools and Ecosystem"
      ],
      "metadata": {
        "id": "GzfSZXKL8ccc"
      }
    },
    {
      "cell_type": "markdown",
      "source": [
        "In this notebook, Data Science Tools and Ecosystem are summarized."
      ],
      "metadata": {
        "id": "J0EyZ2u49G8d"
      }
    },
    {
      "cell_type": "markdown",
      "source": [
        "Objectives:\n",
        "\n",
        "* List popular languages for Data Science\n",
        "* List popular libraries for Data Sciene\n",
        "* List popular tools for Data Science\n",
        "* Create arithmetic expression"
      ],
      "metadata": {
        "id": "8Ebi5kKRCd8a"
      }
    },
    {
      "cell_type": "markdown",
      "source": [
        "Some of the popular languages that Data Scientists use are:\n",
        "\n",
        "1. Python\n",
        "2. R\n",
        "3. SQL"
      ],
      "metadata": {
        "id": "1w8vp9xv9es6"
      }
    },
    {
      "cell_type": "markdown",
      "source": [
        "Some of the commonly used libraries used by Data Scientists include:\n",
        "\n",
        "1. Pandas\n",
        "2. Numpy\n",
        "3. Scikit-learn"
      ],
      "metadata": {
        "id": "JiRaJHZq-LBc"
      }
    },
    {
      "cell_type": "markdown",
      "source": [
        "| Data Science Tools |\n",
        "|--------------------|\n",
        "| JupyterLab |\n",
        "| Google Colab |\n",
        "| VSCode|"
      ],
      "metadata": {
        "id": "pSaBRZRD-z1O"
      }
    },
    {
      "cell_type": "markdown",
      "source": [
        "### Below are a few examples of evaluating arithmetic expressions in Python"
      ],
      "metadata": {
        "id": "BBZjxg74_nT4"
      }
    },
    {
      "cell_type": "code",
      "source": [
        "#This a simple arithmetic expression to mutiply then add integers\n",
        "(3*4)+5"
      ],
      "metadata": {
        "colab": {
          "base_uri": "https://localhost:8080/"
        },
        "id": "UrtMflye_-pK",
        "outputId": "4fb6b35e-b6ef-4a2a-d4ee-f9527e7397d3"
      },
      "execution_count": null,
      "outputs": [
        {
          "output_type": "execute_result",
          "data": {
            "text/plain": [
              "17"
            ]
          },
          "metadata": {},
          "execution_count": 2
        }
      ]
    },
    {
      "cell_type": "code",
      "source": [
        "#This will convert 200 minutes to hours by diving by 60\n",
        "minutes=200\n",
        "hours=minutes/60\n",
        "print(hours)"
      ],
      "metadata": {
        "colab": {
          "base_uri": "https://localhost:8080/"
        },
        "id": "q8ZbX9ZK8hDz",
        "outputId": "1f5e2b32-aaec-45d4-d1f9-ffae4585cc62"
      },
      "execution_count": null,
      "outputs": [
        {
          "output_type": "stream",
          "name": "stdout",
          "text": [
            "3.3333333333333335\n"
          ]
        }
      ]
    },
    {
      "cell_type": "markdown",
      "source": [
        "## Author\n",
        "Lucía Baeza Moreno"
      ],
      "metadata": {
        "id": "vAFt8qUZEe_A"
      }
    },
    {
      "cell_type": "code",
      "source": [],
      "metadata": {
        "id": "GdYn_sYYGRjH"
      },
      "execution_count": null,
      "outputs": []
    }
  ]
}